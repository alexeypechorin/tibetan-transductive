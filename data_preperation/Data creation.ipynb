{
 "cells": [
  {
   "cell_type": "code",
   "execution_count": 19,
   "metadata": {},
   "outputs": [
    {
     "name": "stdout",
     "output_type": "stream",
     "text": [
      "རྒྱ་གར་སྐད་དུ།ཤྲཱི་ཧེ་བཛྲ་ཨ་ལཾ་ཀཱ་ར་པུཥ་པ་ནཱ་མ།བོད་སྐད་དུ།དཔལ་དགྱེས་པ་རྡོ་རྗེ་རྒྱན་གྱི་མེ་ཏོག་ཅེས་བྱ་བ།བཅོམ་ལྡན་འདས་དགྱེས་\n",
      "མཛད་རྡོ་རྗེ་ལ་ཕྱག་འཚལ་ལོ།།རྒྱུད་རྒྱལ་དགྱེས་མཛད་དཔལ་ལྡན་རིན་ཆེན་ཕྲེང་མཛེས་རྒྱལ་བའི་ཡེ་ཤེས་རྒྱ་མཚོ་ལས་བྱུང་གང་།།རྒྱལ་སྲས་མཁས་པ་དུ་མའི་\n",
      "\n",
      "བྱེད་དེ།།རྡོ་རྗེ་འཆང་དཔལ་བླ་མའི་ཞབས་པད་བསྟུད་དེ་བདག་གིས་ཤིན་དུ་གསལ་བར་བཤད་པར་བྱ།།རྒྱུད་འདི་སྔོན་གྱི་མཁས་གྲུབ་ཆེ་རྣམས་ཀྱིས་འཆད་\n",
      "\n"
     ]
    }
   ],
   "source": [
    "f=open(\"/home/wolf/alexeyp/Tibetan_Transductive/Data/Test/Original/Texts/278.txt\")\n",
    "r=f.read()\n",
    "f.close()\n",
    "print(r)"
   ]
  },
  {
   "cell_type": "code",
   "execution_count": 24,
   "metadata": {},
   "outputs": [
    {
     "data": {
      "image/png": "[encoded data removed]",
      "text/plain": [
       "<IPython.core.display.Image object>"
      ]
     },
     "execution_count": 24,
     "metadata": {},
     "output_type": "execute_result"
    }
   ],
   "source": [
    "from IPython.display import Image\n",
    "imgpath=\"/home/wolf/alexeyp/Tibetan_Transductive/Data/Synthetic/Prepared/Images/1-1/0/0_0_Qomolangma-Betsu.png\"\n",
    "Image(imgpath)"
   ]
  },
  {
   "cell_type": "markdown",
   "metadata": {},
   "source": [
    "# Image as markdown\n",
    "![title](../../Data/Synthetic/Prepared/Images/1-1/0/0_0_Qomolangma-Betsu.png)\n"
   ]
  },
  {
   "cell_type": "code",
   "execution_count": 25,
   "metadata": {},
   "outputs": [
    {
     "name": "stdout",
     "output_type": "stream",
     "text": [
      "{'༎', 'ྺ', 'ྃ', 'ཱུ', 'ྀ', 'ཻ', 'ྻ'}\n",
      "len by percentile\n",
      "range(10,100,10)\n",
      "[133.0, 137.0, 139.0, 142.0, 144.0, 146.0, 148.0, 150.0, 151.0, 152.0, 154.0, 155.0, 157.0, 158.0, 160.0, 163.0, 166.0, 169.0, 175.0]\n",
      "mean unknown letter rate is: 0.04932885581307796%\n"
     ]
    },
    {
     "ename": "Exception",
     "evalue": "Error: dictionary file already exists",
     "traceback": [
      "\u001b[0;31m---------------------------------------------------------------------------\u001b[0m",
      "\u001b[0;31mException\u001b[0m                                 Traceback (most recent call last)",
      "\u001b[0;32m/specific/a/netapp3/vol/wolf/alexeyp/Tibetan_Transductive/Src/data_preperation/3_create_class_dict.py\u001b[0m in \u001b[0;36m<module>\u001b[0;34m()\u001b[0m\n\u001b[1;32m     94\u001b[0m     \u001b[0margs\u001b[0m \u001b[0;34m=\u001b[0m \u001b[0mparser\u001b[0m\u001b[0;34m.\u001b[0m\u001b[0mparse_args\u001b[0m\u001b[0;34m(\u001b[0m\u001b[0;34m)\u001b[0m\u001b[0;34m\u001b[0m\u001b[0m\n\u001b[1;32m     95\u001b[0m \u001b[0;34m\u001b[0m\u001b[0m\n\u001b[0;32m---> 96\u001b[0;31m     \u001b[0mout_dict\u001b[0m \u001b[0;34m=\u001b[0m \u001b[0mcreate_class_dict\u001b[0m\u001b[0;34m(\u001b[0m\u001b[0margs\u001b[0m\u001b[0;34m.\u001b[0m\u001b[0msynth_transcriptions\u001b[0m\u001b[0;34m,\u001b[0m \u001b[0margs\u001b[0m\u001b[0;34m.\u001b[0m\u001b[0morig_transcriptions\u001b[0m\u001b[0;34m,\u001b[0m \u001b[0margs\u001b[0m\u001b[0;34m.\u001b[0m\u001b[0mout_path\u001b[0m\u001b[0;34m)\u001b[0m\u001b[0;34m\u001b[0m\u001b[0m\n\u001b[0m\u001b[1;32m     97\u001b[0m \u001b[0;34m\u001b[0m\u001b[0m\n\u001b[1;32m     98\u001b[0m \u001b[0;34m\u001b[0m\u001b[0m\n",
      "\u001b[0;32m/specific/a/netapp3/vol/wolf/alexeyp/Tibetan_Transductive/Src/data_preperation/3_create_class_dict.py\u001b[0m in \u001b[0;36mcreate_class_dict\u001b[0;34m(synth_transcriptions, orig_transcriptions, out_path, verbose)\u001b[0m\n\u001b[1;32m     69\u001b[0m \u001b[0;34m\u001b[0m\u001b[0m\n\u001b[1;32m     70\u001b[0m     \u001b[0;32mif\u001b[0m \u001b[0mos\u001b[0m\u001b[0;34m.\u001b[0m\u001b[0mpath\u001b[0m\u001b[0;34m.\u001b[0m\u001b[0mexists\u001b[0m\u001b[0;34m(\u001b[0m\u001b[0mout_path\u001b[0m \u001b[0;34m+\u001b[0m \u001b[0;34m'.pkl'\u001b[0m\u001b[0;34m)\u001b[0m \u001b[0;32mor\u001b[0m \u001b[0mos\u001b[0m\u001b[0;34m.\u001b[0m\u001b[0mpath\u001b[0m\u001b[0;34m.\u001b[0m\u001b[0mexists\u001b[0m\u001b[0;34m(\u001b[0m\u001b[0mout_path\u001b[0m \u001b[0;34m+\u001b[0m \u001b[0;34m'.txt'\u001b[0m\u001b[0;34m)\u001b[0m\u001b[0;34m:\u001b[0m\u001b[0;34m\u001b[0m\u001b[0m\n\u001b[0;32m---> 71\u001b[0;31m         \u001b[0;32mraise\u001b[0m \u001b[0mException\u001b[0m\u001b[0;34m(\u001b[0m\u001b[0;34m'Error: dictionary file already exists'\u001b[0m\u001b[0;34m)\u001b[0m\u001b[0;34m\u001b[0m\u001b[0m\n\u001b[0m\u001b[1;32m     72\u001b[0m \u001b[0;34m\u001b[0m\u001b[0m\n\u001b[1;32m     73\u001b[0m     \u001b[0;32mwith\u001b[0m \u001b[0mopen\u001b[0m\u001b[0;34m(\u001b[0m\u001b[0mout_path\u001b[0m \u001b[0;34m+\u001b[0m \u001b[0;34m'.pkl'\u001b[0m\u001b[0;34m,\u001b[0m \u001b[0;34m'wb'\u001b[0m\u001b[0;34m)\u001b[0m \u001b[0;32mas\u001b[0m \u001b[0mf\u001b[0m\u001b[0;34m:\u001b[0m\u001b[0;34m\u001b[0m\u001b[0m\n",
      "\u001b[0;31mException\u001b[0m: Error: dictionary file already exists"
     ],
     "output_type": "error"
    }
   ],
   "source": [
    "%run -i '3_create_class_dict.py'"
   ]
  },
  {
   "cell_type": "code",
   "execution_count": null,
   "metadata": {},
   "outputs": [],
   "source": []
  }
 ],
 "metadata": {
  "kernelspec": {
   "display_name": "Python 3",
   "language": "python",
   "name": "python3"
  },
  "language_info": {
   "codemirror_mode": {
    "name": "ipython",
    "version": 3
   },
   "file_extension": ".py",
   "mimetype": "text/x-python",
   "name": "python",
   "nbconvert_exporter": "python",
   "pygments_lexer": "ipython3",
   "version": "3.7.0"
  }
 },
 "nbformat": 4,
 "nbformat_minor": 2
}
