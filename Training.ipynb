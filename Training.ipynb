{
 "cells": [
  {
   "cell_type": "code",
   "execution_count": 1,
   "metadata": {},
   "outputs": [],
   "source": [
    "import sys\n",
    "import os\n",
    "import click\n",
    "import string\n",
    "import numpy as np\n",
    "from tqdm import tqdm\n",
    "from models.model_loader import load_model\n",
    "from torchvision.transforms import Compose, Lambda\n",
    "from dataset.data_transform import Resize, Rotation, ElasticAndSine, ColorGradGausNoise, AddWidth, Normalize, ToGray, OnlyElastic, OnlySine, ColorGrad, ColorGausNoise\n",
    "from dataset.data_transform_semi_sup import ResizeDouble, RotationDouble, ElasticAndSineDouble, ColorGradGausNoiseDouble, AddWidthDouble, NormalizeDouble\n",
    "from dataset.test_data import TestDataset\n",
    "from dataset.text_data import TextDataset, TextDatasetRandomFont, TextDatasetComparison\n",
    "from dataset.collate_fn import text_collate, collate_comp\n",
    "from utils.data_visualization import TbSummary\n",
    "from lr_policy import StepLR, DannLR\n",
    "import pickle as pkl\n",
    "import glob\n",
    "import operator\n",
    "\n",
    "import torch\n",
    "from torch import nn\n",
    "from torch import optim\n",
    "from torch.autograd import Variable\n",
    "from torch import Tensor\n",
    "from torch.utils.data import DataLoader\n",
    "from warpctc_pytorch import CTCLoss\n",
    "from models.crnn import CRNN\n",
    "\n",
    "from torchvision.utils import make_grid\n",
    "\n",
    "# from test import test, print_data_visuals\n",
    "from models.vat import virtual_adversarial_loss, comp_loss\n",
    "from models.new_vat import VATLoss, VATLossSign, LabeledATLoss, RandomLoss, LabeledAtAndUnlabeledTestVatLoss, VATonRnnSign, VATonRnnCnnSign, VATonCnnSign, PseudoLabel\n",
    "from livelossplot import PlotLosses\n"
   ]
  },
  {
   "cell_type": "code",
   "execution_count": 6,
   "metadata": {},
   "outputs": [
    {
     "ename": "ImportError",
     "evalue": "cannot import name 'test'",
     "output_type": "error",
     "traceback": [
      "\u001b[0;31m---------------------------------------------------------------------------\u001b[0m",
      "\u001b[0;31mImportError\u001b[0m                               Traceback (most recent call last)",
      "\u001b[0;32m<ipython-input-6-443a161f0054>\u001b[0m in \u001b[0;36m<module>\u001b[0;34m\u001b[0m\n\u001b[0;32m----> 1\u001b[0;31m \u001b[0;32mfrom\u001b[0m \u001b[0mtest\u001b[0m \u001b[0;32mimport\u001b[0m \u001b[0mtest\u001b[0m\u001b[0;34m,\u001b[0m \u001b[0mprint_data_visuals\u001b[0m\u001b[0;34m\u001b[0m\u001b[0;34m\u001b[0m\u001b[0m\n\u001b[0m",
      "\u001b[0;31mImportError\u001b[0m: cannot import name 'test'"
     ]
    }
   ],
   "source": [
    "from test import test, print_data_visuals\n"
   ]
  },
  {
   "cell_type": "code",
   "execution_count": 3,
   "metadata": {},
   "outputs": [
    {
     "data": {
      "text/plain": [
       "'/home/wolf/alexeyp/anaconda3/envs/tibetan_hcr/bin/python'"
      ]
     },
     "execution_count": 3,
     "metadata": {},
     "output_type": "execute_result"
    }
   ],
   "source": [
    "sys.executable\n"
   ]
  },
  {
   "cell_type": "code",
   "execution_count": 4,
   "metadata": {},
   "outputs": [
    {
     "data": {
      "text/plain": [
       "['/home/wolf/alexeyp/anaconda3/envs/tibetan_hcr/lib/python36.zip',\n",
       " '/home/wolf/alexeyp/anaconda3/envs/tibetan_hcr/lib/python3.6',\n",
       " '/home/wolf/alexeyp/anaconda3/envs/tibetan_hcr/lib/python3.6/lib-dynload',\n",
       " '',\n",
       " '/home/wolf/alexeyp/anaconda3/envs/tibetan_hcr/lib/python3.6/site-packages',\n",
       " '/home/wolf/alexeyp/anaconda3/envs/tibetan_hcr/lib/python3.6/site-packages/warpctc_pytorch-0.1-py3.6-linux-x86_64.egg',\n",
       " '/home/wolf/alexeyp/anaconda3/envs/tibetan_hcr/lib/python3.6/site-packages/IPython/extensions',\n",
       " '/specific/a/home/cc/cs/alonlevi/.ipython']"
      ]
     },
     "execution_count": 4,
     "metadata": {},
     "output_type": "execute_result"
    }
   ],
   "source": [
    "sys.path"
   ]
  },
  {
   "cell_type": "code",
   "execution_count": null,
   "metadata": {},
   "outputs": [],
   "source": [
    "sys.path = ['.',\n",
    " '/home/wolf/alexeyp/anaconda3/envs/tibetan_hcr/lib/python36.zip',\n",
    " '/home/wolf/alexeyp/anaconda3/envs/tibetan_hcr/lib/python3.6',\n",
    " '/home/wolf/alexeyp/anaconda3/envs/tibetan_hcr/lib/python3.6/lib-dynload',\n",
    " '/home/wolf/alexeyp/anaconda3/envs/tibetan_hcr/lib/python3.6/site-packages',\n",
    " '/home/wolf/alexeyp/anaconda3/envs/tibetan_hcr/lib/python3.6/site-packages/warpctc_pytorch-0.1-py3.6-linux-x86_64.egg']"
   ]
  },
  {
   "cell_type": "code",
   "execution_count": null,
   "metadata": {},
   "outputs": [],
   "source": [
    "from test import test, print_data_visuals\n"
   ]
  }
 ],
 "metadata": {
  "kernelspec": {
   "display_name": "Python 3",
   "language": "python",
   "name": "python3"
  },
  "language_info": {
   "codemirror_mode": {
    "name": "ipython",
    "version": 3
   },
   "file_extension": ".py",
   "mimetype": "text/x-python",
   "name": "python",
   "nbconvert_exporter": "python",
   "pygments_lexer": "ipython3",
   "version": "3.6.7"
  }
 },
 "nbformat": 4,
 "nbformat_minor": 2
}
